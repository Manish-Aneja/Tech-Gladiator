{
 "cells": [
  {
   "cell_type": "code",
   "execution_count": null,
   "metadata": {},
   "outputs": [
    {
     "name": "stdout",
     "output_type": "stream",
     "text": [
      "______            _     _  ______                 _           _ \n",
      "|  _  \\          (_)   | | | ___ \\               | |         | |\n",
      "| | | |__ ___   ___  __| | | |_/ / ___  _ __ ___ | |__   __ _| |\n",
      "| | | / _` \\ \\ / / |/ _` | | ___ \\/ _ \\| '_ ` _ \\| '_ \\ / _` | |\n",
      "| |/ / (_| |\\ V /| | (_| | | |_/ / (_) | | | | | | |_) | (_| | |\n",
      "|___/ \\__,_| \\_/ |_|\\__,_| \\____/ \\___/|_| |_| |_|_.__/ \\__,_|_|\n",
      "\n",
      "****************************************************************\n",
      "\n",
      "* Copyright of David Bombal, 2021                              *\n",
      "\n",
      "* https://www.davidbombal.com                                  *\n",
      "\n",
      "* https://www.youtube.com/davidbombal                          *\n",
      "\n",
      "****************************************************************\n"
     ]
    }
   ],
   "source": [
    "# Import scapy\n",
    "import scapy.all as scapy\n",
    "# We need to create regular expressions to ensure that the input is correctly formatted.\n",
    "import re\n",
    "\n",
    "# Basic user interface header\n",
    "print(r\"\"\"______            _     _  ______                 _           _ \n",
    "|  _  \\          (_)   | | | ___ \\               | |         | |\n",
    "| | | |__ ___   ___  __| | | |_/ / ___  _ __ ___ | |__   __ _| |\n",
    "| | | / _` \\ \\ / / |/ _` | | ___ \\/ _ \\| '_ ` _ \\| '_ \\ / _` | |\n",
    "| |/ / (_| |\\ V /| | (_| | | |_/ / (_) | | | | | | |_) | (_| | |\n",
    "|___/ \\__,_| \\_/ |_|\\__,_| \\____/ \\___/|_| |_| |_|_.__/ \\__,_|_|\"\"\")\n",
    "print(\"\\n****************************************************************\")\n",
    "print(\"\\n* Copyright of David Bombal, 2021                              *\")\n",
    "print(\"\\n* https://www.davidbombal.com                                  *\")\n",
    "print(\"\\n* https://www.youtube.com/davidbombal                          *\")\n",
    "print(\"\\n****************************************************************\")\n",
    "\n",
    "# Regular Expression Pattern to recognise IPv4 addresses.\n",
    "ip_add_range_pattern = re.compile(\"^(?:[0-9]{1,3}\\.){3}[0-9]{1,3}/[0-9]*$\")\n",
    "\n",
    "# Get the address range to ARP\n",
    "while True:\n",
    "    ip_add_range_entered = input(\"\\nPlease enter the ip address and range that you want to send the ARP request to (ex 192.168.1.0/24): \")\n",
    "    if ip_add_range_pattern.search(ip_add_range_entered):\n",
    "        print(f\"{ip_add_range_entered} is a valid ip address range\")\n",
    "        break\n",
    "\n",
    "\n",
    "# Try ARPing the ip address range supplied by the user. \n",
    "# The arping() method in scapy creates a pakcet with an ARP message \n",
    "# and sends it to the broadcast mac address ff:ff:ff:ff:ff:ff.\n",
    "# If a valid ip address range was supplied the program will return \n",
    "# the list of all results.\n",
    "arp_result = scapy.arping(ip_add_range_entered)"
   ]
  },
  {
   "cell_type": "code",
   "execution_count": null,
   "metadata": {},
   "outputs": [],
   "source": []
  }
 ],
 "metadata": {
  "kernelspec": {
   "display_name": "Python 3",
   "language": "python",
   "name": "python3"
  },
  "language_info": {
   "codemirror_mode": {
    "name": "ipython",
    "version": 3
   },
   "file_extension": ".py",
   "mimetype": "text/x-python",
   "name": "python",
   "nbconvert_exporter": "python",
   "pygments_lexer": "ipython3",
   "version": "3.8.5"
  }
 },
 "nbformat": 4,
 "nbformat_minor": 4
}
