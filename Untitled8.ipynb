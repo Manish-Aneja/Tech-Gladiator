{
 "cells": [
  {
   "cell_type": "code",
   "execution_count": 1,
   "metadata": {},
   "outputs": [],
   "source": [
    "# This Python 3 environment comes with many helpful analytics libraries installed\n",
    "# It is defined by the kaggle/python docker image: https://github.com/kaggle/docker-python\n",
    "# For example, here's several helpful packages to load in \n",
    "\n",
    "import numpy as np # linear algebra\n",
    "import pandas as pd # data processing, CSV file I/O (e.g. pd.read_csv)\n",
    "\n",
    "# Input data files are available in the \"../input/\" directory.\n",
    "# For example, running this (by clicking run or pressing Shift+Enter) will list all files under the input directory\n",
    "\n",
    "import os\n",
    "for dirname, _, filenames in os.walk('/kaggle/input'):\n",
    "    for filename in filenames:\n",
    "        print(os.path.join(dirname, filename))\n",
    "\n",
    "import matplotlib.pyplot as plt\n",
    "import pandas as pd\n",
    "pd.set_option('display.float_format', lambda x: '%.4f' % x)\n",
    "import seaborn as sns\n",
    "sns.set_context(\"paper\", font_scale=1.3)\n",
    "sns.set_style('white')\n",
    "import warnings\n",
    "warnings.filterwarnings('ignore')\n",
    "from time import time\n",
    "import matplotlib.ticker as tkr\n",
    "from scipy import stats\n",
    "from statsmodels.tsa.stattools import adfuller\n",
    "from sklearn import preprocessing\n",
    "from statsmodels.tsa.stattools import pacf\n",
    "%matplotlib inline\n",
    "import math\n",
    "import keras\n",
    "from keras.models import Sequential\n",
    "from keras.layers import Dense\n",
    "from keras.layers import LSTM\n",
    "from keras.layers import Dropout\n",
    "from keras.layers import *\n",
    "from sklearn.preprocessing import MinMaxScaler\n",
    "from sklearn.metrics import mean_squared_error\n",
    "from sklearn.metrics import mean_absolute_error\n",
    "from keras.callbacks import EarlyStopping"
   ]
  },
  {
   "cell_type": "code",
   "execution_count": 2,
   "metadata": {},
   "outputs": [
    {
     "name": "stdout",
     "output_type": "stream",
     "text": [
      "Multivariate Sample\n",
      "            Timestamp    Demand    Import\n",
      "0 2020-12-01 00:00:00 7620.2000 6693.6100\n",
      "1 2020-12-01 00:05:00 7735.6700 6749.2300\n",
      "2 2020-12-01 00:10:00 7771.5800 6779.9200\n",
      "3 2020-12-01 00:15:00 7792.9300 6802.9300\n",
      "4 2020-12-01 00:20:00 7749.3500 6807.5400\n"
     ]
    }
   ],
   "source": [
    "def load_data(col=None, path=r\"C:\\Users\\manis\\Downloads\\ER409_2021\\DSA_Dataset.xlsx\", verbose=False):\n",
    "    df = pd.read_excel(path)\n",
    "    if col is not None:\n",
    "        df = df[col]\n",
    "    if verbose:\n",
    "        print(df.head())\n",
    "    return df\n",
    "\n",
    "print(\"Multivariate Sample\")\n",
    "multivar_df = load_data(['Timestamp','Demand', 'Import'], verbose=True)"
   ]
  },
  {
   "cell_type": "code",
   "execution_count": 3,
   "metadata": {},
   "outputs": [
    {
     "name": "stdout",
     "output_type": "stream",
     "text": [
      "<class 'pandas.core.frame.DataFrame'>\n",
      "RangeIndex: 31574 entries, 0 to 31573\n",
      "Data columns (total 3 columns):\n",
      " #   Column     Non-Null Count  Dtype         \n",
      "---  ------     --------------  -----         \n",
      " 0   Timestamp  31574 non-null  datetime64[ns]\n",
      " 1   Demand     31574 non-null  float64       \n",
      " 2   Import     31574 non-null  float64       \n",
      "dtypes: datetime64[ns](1), float64(2)\n",
      "memory usage: 740.1 KB\n"
     ]
    }
   ],
   "source": [
    "multivar_df.info()"
   ]
  },
  {
   "cell_type": "code",
   "execution_count": 4,
   "metadata": {},
   "outputs": [
    {
     "name": "stdout",
     "output_type": "stream",
     "text": [
      "Shapes: \n",
      "Training set: (25233, 1, 25), Testing set: (6289, 1, 25)\n",
      "Sample from training set: \n",
      "[[0.55988437 0.5652211  0.5681658  0.5703736  0.5708159  0.57132345\n",
      "  0.58070445 0.58227414 0.58776724 0.5912915  0.59254646 0.592771\n",
      "  0.5928737  0.5950114  0.59354436 0.5924313  0.5869421  0.5837172\n",
      "  0.57965094 0.57863575 0.57592803 0.5725161  0.5704177  0.5728212\n",
      "  0.5719519 ]]\n"
     ]
    }
   ],
   "source": [
    "temp = multivar_df.copy() # make temporary copy of dataframe\n",
    "dataset = temp['Import'].dropna().values # numpy.ndarray of the actual load\n",
    "dataset = dataset.astype('float32') \n",
    "dataset = np.reshape(dataset, (-1, 1)) # reshape to one feature; required for the models\n",
    "\n",
    "scaler = MinMaxScaler(feature_range=(0, 1)) # Min Max scaler\n",
    "dataset = scaler.fit_transform(dataset) # fit and transform the dataset\n",
    "\n",
    "# Train and Test splits\n",
    "train_size = int(len(dataset) * 0.80) \n",
    "test_size = len(dataset) - train_size\n",
    "train, test = dataset[0:train_size,:], dataset[train_size:len(dataset),:]\n",
    "\n",
    "def create_dataset(dataset, look_back=1):\n",
    "    X, Y = [], []\n",
    "    for i in range(len(dataset)-look_back-1):\n",
    "        a = dataset[i:(i+look_back), 0]\n",
    "        X.append(a)\n",
    "        Y.append(dataset[i + look_back, 0])\n",
    "    return np.array(X), np.array(Y)\n",
    "    \n",
    "look_back = 25 # timesteps to lookback for predictions\n",
    "X_train, trainY = create_dataset(train, look_back)\n",
    "X_test, testY = create_dataset(test, look_back)\n",
    "\n",
    "# reshape input to be [samples, time steps, features]\n",
    "X_train = np.reshape(X_train, (X_train.shape[0], 1, X_train.shape[1]))\n",
    "X_test = np.reshape(X_test, (X_test.shape[0], 1, X_test.shape[1]))\n",
    "print(\"Shapes: \\nTraining set: {}, Testing set: {}\".format(X_train.shape, X_test.shape))\n",
    "print(\"Sample from training set: \\n{}\".format(X_train[0]))"
   ]
  },
  {
   "cell_type": "code",
   "execution_count": 5,
   "metadata": {},
   "outputs": [],
   "source": [
    "temp = multivar_df\n",
    "dataset = temp['Demand'].dropna().values #numpy.ndarray\n",
    "dataset = dataset.astype('float32')\n",
    "dataset = np.reshape(dataset, (-1, 1))\n",
    "scaler = MinMaxScaler(feature_range=(0, 1))\n",
    "dataset = scaler.fit_transform(dataset)\n",
    "train_size = int(len(dataset) * 0.80)\n",
    "test_size = len(dataset) - train_size\n",
    "train, test = dataset[0:train_size,:], dataset[train_size:len(dataset),:]\n",
    "\n",
    "def create_dataset(dataset, look_back=1):\n",
    "    X, Y = [], []\n",
    "    for i in range(len(dataset)-look_back-1):\n",
    "        a = dataset[i:(i+look_back), 0]\n",
    "        X.append(a)\n",
    "        Y.append(dataset[i + look_back, 0])\n",
    "    return np.array(X), np.array(Y)\n",
    "    \n",
    "look_back = 25\n",
    "X_train, Y_train = create_dataset(train, look_back)\n",
    "X_test, Y_test = create_dataset(test, look_back)\n",
    "\n",
    "# reshape input to be [samples, time steps, features]\n",
    "X_train = np.reshape(X_train, (X_train.shape[0], 1, X_train.shape[1]))\n",
    "X_test = np.reshape(X_test, (X_test.shape[0], 1, X_test.shape[1]))"
   ]
  },
  {
   "cell_type": "code",
   "execution_count": 6,
   "metadata": {},
   "outputs": [
    {
     "name": "stdout",
     "output_type": "stream",
     "text": [
      "Epoch 1/50\n",
      "361/361 [==============================] - 6s 9ms/step - loss: 0.0377 - val_loss: 0.0010\n",
      "Epoch 2/50\n",
      "361/361 [==============================] - 1s 4ms/step - loss: 0.0028 - val_loss: 3.2633e-04\n",
      "Epoch 3/50\n",
      "361/361 [==============================] - 1s 4ms/step - loss: 0.0016 - val_loss: 1.6916e-04\n",
      "Epoch 4/50\n",
      "361/361 [==============================] - 1s 4ms/step - loss: 0.0014 - val_loss: 2.8629e-04\n",
      "Epoch 5/50\n",
      "361/361 [==============================] - 2s 4ms/step - loss: 0.0013 - val_loss: 1.7878e-04\n",
      "Epoch 6/50\n",
      "361/361 [==============================] - 1s 4ms/step - loss: 0.0013 - val_loss: 9.7600e-05\n",
      "Epoch 7/50\n",
      "361/361 [==============================] - 1s 4ms/step - loss: 0.0014 - val_loss: 2.2777e-04\n",
      "Epoch 8/50\n",
      "361/361 [==============================] - 1s 4ms/step - loss: 0.0012 - val_loss: 1.0554e-04\n",
      "Epoch 9/50\n",
      "361/361 [==============================] - 1s 4ms/step - loss: 0.0011 - val_loss: 2.2335e-04\n",
      "Epoch 10/50\n",
      "361/361 [==============================] - 1s 4ms/step - loss: 0.0011 - val_loss: 2.3121e-04\n",
      "Epoch 11/50\n",
      "361/361 [==============================] - 1s 4ms/step - loss: 8.9895e-04 - val_loss: 9.4189e-05\n",
      "Epoch 12/50\n",
      "361/361 [==============================] - 1s 4ms/step - loss: 9.6987e-04 - val_loss: 1.0232e-04\n",
      "Epoch 13/50\n",
      "361/361 [==============================] - 1s 4ms/step - loss: 0.0010 - val_loss: 1.3393e-04\n",
      "Epoch 14/50\n",
      "361/361 [==============================] - 1s 4ms/step - loss: 7.4977e-04 - val_loss: 6.8614e-05\n",
      "Epoch 15/50\n",
      "361/361 [==============================] - 2s 4ms/step - loss: 7.8191e-04 - val_loss: 6.6500e-05\n",
      "Epoch 16/50\n",
      "361/361 [==============================] - 1s 4ms/step - loss: 6.3564e-04 - val_loss: 9.2578e-05\n",
      "Epoch 17/50\n",
      "361/361 [==============================] - 1s 4ms/step - loss: 6.6021e-04 - val_loss: 1.2931e-04\n",
      "Epoch 18/50\n",
      "361/361 [==============================] - 2s 5ms/step - loss: 5.6433e-04 - val_loss: 5.3996e-05\n",
      "Epoch 19/50\n",
      "361/361 [==============================] - 2s 5ms/step - loss: 6.5117e-04 - val_loss: 1.1310e-04\n",
      "Epoch 20/50\n",
      "361/361 [==============================] - 2s 5ms/step - loss: 5.0918e-04 - val_loss: 8.6250e-05\n",
      "Epoch 21/50\n",
      "361/361 [==============================] - 2s 4ms/step - loss: 5.7878e-04 - val_loss: 7.6720e-05\n",
      "Epoch 22/50\n",
      "361/361 [==============================] - 1s 4ms/step - loss: 4.5947e-04 - val_loss: 7.5559e-05\n",
      "Epoch 23/50\n",
      "361/361 [==============================] - 1s 4ms/step - loss: 4.3287e-04 - val_loss: 8.9404e-05\n",
      "Epoch 24/50\n",
      "361/361 [==============================] - 1s 4ms/step - loss: 4.5739e-04 - val_loss: 6.8394e-05\n",
      "Epoch 25/50\n",
      "361/361 [==============================] - 1s 4ms/step - loss: 3.6949e-04 - val_loss: 4.9991e-05\n",
      "Epoch 26/50\n",
      "361/361 [==============================] - 1s 4ms/step - loss: 3.5997e-04 - val_loss: 5.7846e-05\n",
      "Epoch 27/50\n",
      "361/361 [==============================] - 1s 4ms/step - loss: 4.0219e-04 - val_loss: 4.5257e-05\n",
      "Epoch 28/50\n",
      "361/361 [==============================] - 1s 4ms/step - loss: 3.6883e-04 - val_loss: 5.6049e-05\n",
      "Epoch 29/50\n",
      "361/361 [==============================] - 1s 4ms/step - loss: 3.1014e-04 - val_loss: 3.7676e-05\n",
      "Epoch 30/50\n",
      "361/361 [==============================] - 1s 4ms/step - loss: 3.0725e-04 - val_loss: 6.4040e-05\n",
      "Epoch 31/50\n",
      "361/361 [==============================] - 2s 4ms/step - loss: 2.9877e-04 - val_loss: 8.7303e-05\n",
      "Epoch 32/50\n",
      "361/361 [==============================] - 1s 4ms/step - loss: 2.9046e-04 - val_loss: 3.4376e-05\n",
      "Epoch 33/50\n",
      "361/361 [==============================] - 1s 4ms/step - loss: 2.9268e-04 - val_loss: 3.3855e-05\n",
      "Epoch 34/50\n",
      "361/361 [==============================] - 1s 4ms/step - loss: 2.3271e-04 - val_loss: 3.2173e-05\n",
      "Epoch 35/50\n",
      "361/361 [==============================] - 1s 4ms/step - loss: 2.9330e-04 - val_loss: 3.0971e-05\n",
      "Epoch 36/50\n",
      "361/361 [==============================] - 1s 4ms/step - loss: 2.9771e-04 - val_loss: 3.1863e-05\n",
      "Epoch 37/50\n",
      "361/361 [==============================] - 1s 4ms/step - loss: 1.7659e-04 - val_loss: 4.4528e-05\n",
      "Epoch 38/50\n",
      "361/361 [==============================] - 1s 4ms/step - loss: 2.6229e-04 - val_loss: 3.3673e-05\n",
      "Epoch 39/50\n",
      "361/361 [==============================] - 1s 4ms/step - loss: 2.2369e-04 - val_loss: 3.5918e-05\n",
      "Epoch 40/50\n",
      "361/361 [==============================] - 1s 4ms/step - loss: 1.9082e-04 - val_loss: 2.8993e-05\n",
      "Epoch 41/50\n",
      "361/361 [==============================] - 1s 4ms/step - loss: 1.9692e-04 - val_loss: 3.3202e-05\n",
      "Epoch 42/50\n",
      "361/361 [==============================] - 1s 4ms/step - loss: 1.3785e-04 - val_loss: 3.7982e-05\n",
      "Epoch 43/50\n",
      "361/361 [==============================] - 1s 4ms/step - loss: 2.0515e-04 - val_loss: 3.7987e-05\n",
      "Epoch 44/50\n",
      "361/361 [==============================] - 1s 4ms/step - loss: 2.5795e-04 - val_loss: 3.0354e-05\n",
      "Epoch 45/50\n",
      "361/361 [==============================] - 1s 4ms/step - loss: 1.9525e-04 - val_loss: 3.8614e-05\n",
      "Epoch 46/50\n",
      "361/361 [==============================] - 1s 4ms/step - loss: 1.8983e-04 - val_loss: 2.9485e-05\n",
      "Epoch 47/50\n",
      "361/361 [==============================] - 1s 4ms/step - loss: 1.6606e-04 - val_loss: 4.8905e-05\n",
      "Epoch 48/50\n",
      "361/361 [==============================] - 1s 4ms/step - loss: 1.7708e-04 - val_loss: 3.7073e-05\n",
      "Epoch 49/50\n",
      "361/361 [==============================] - 1s 4ms/step - loss: 2.1553e-04 - val_loss: 4.7478e-05\n",
      "Epoch 50/50\n",
      "361/361 [==============================] - 1s 4ms/step - loss: 1.6623e-04 - val_loss: 4.5936e-05\n",
      "Model: \"sequential\"\n",
      "_________________________________________________________________\n",
      "Layer (type)                 Output Shape              Param #   \n",
      "=================================================================\n",
      "lstm (LSTM)                  (None, 100)               50400     \n",
      "_________________________________________________________________\n",
      "dropout (Dropout)            (None, 100)               0         \n",
      "_________________________________________________________________\n",
      "dense (Dense)                (None, 1)                 101       \n",
      "=================================================================\n",
      "Total params: 50,501\n",
      "Trainable params: 50,501\n",
      "Non-trainable params: 0\n",
      "_________________________________________________________________\n"
     ]
    }
   ],
   "source": [
    "model = Sequential()\n",
    "model.add(LSTM(100, input_shape=(X_train.shape[1], X_train.shape[2])))\n",
    "model.add(Dropout(0.2))\n",
    "model.add(Dense(1))\n",
    "model.compile(loss='mean_squared_error', optimizer='adam')\n",
    "\n",
    "history = model.fit(X_train, Y_train, epochs=50, batch_size=70, validation_data=(X_test, Y_test),verbose=1, shuffle=False)\n",
    "\n",
    "model.summary()"
   ]
  },
  {
   "cell_type": "code",
   "execution_count": 7,
   "metadata": {},
   "outputs": [
    {
     "data": {
      "image/png": "[encoded data removed]",
      "text/plain": [
       "<Figure size 576x288 with 1 Axes>"
      ]
     },
     "metadata": {
      "needs_background": "light"
     },
     "output_type": "display_data"
    }
   ],
   "source": [
    "plt.figure(figsize=(8,4))\n",
    "plt.plot(history.history['loss'], label='Train Loss')\n",
    "plt.plot(history.history['val_loss'], label='Test Loss')\n",
    "plt.title('model loss')\n",
    "plt.ylabel('loss')\n",
    "plt.xlabel('epochs')\n",
    "plt.legend(loc='upper right')\n",
    "plt.show();"
   ]
  },
  {
   "cell_type": "code",
   "execution_count": 9,
   "metadata": {},
   "outputs": [
    {
     "name": "stdout",
     "output_type": "stream",
     "text": [
      "Train Mean Absolute Error: 72.15227085119452\n",
      "Train Root Mean Squared Error: 104.85317610283205\n",
      "Test Mean Absolute Error: 61.928974605711\n",
      "Test Root Mean Squared Error: 79.19638190060776\n"
     ]
    }
   ],
   "source": [
    "train_predict = model.predict(X_train)\n",
    "test_predict = model.predict(X_test)\n",
    "# invert predictions\n",
    "train_predict = scaler.inverse_transform(train_predict)\n",
    "Y_train = scaler.inverse_transform([Y_train])\n",
    "test_predict = scaler.inverse_transform(test_predict)\n",
    "Y_test = scaler.inverse_transform([Y_test])\n",
    "print('Train Mean Absolute Error:', mean_absolute_error(Y_train[0], train_predict[:,0]))\n",
    "print('Train Root Mean Squared Error:',np.sqrt(mean_squared_error(Y_train[0], train_predict[:,0])))\n",
    "print('Test Mean Absolute Error:', mean_absolute_error(Y_test[0], test_predict[:,0]))\n",
    "print('Test Root Mean Squared Error:',np.sqrt(mean_squared_error(Y_test[0], test_predict[:,0])))"
   ]
  },
  {
   "cell_type": "code",
   "execution_count": 15,
   "metadata": {},
   "outputs": [
    {
     "data": {
      "image/png": "[encoded data removed]",
      "text/plain": [
       "<Figure size 576x288 with 1 Axes>"
      ]
     },
     "metadata": {
      "needs_background": "light"
     },
     "output_type": "display_data"
    }
   ],
   "source": [
    "idx = 500\n",
    "aa=[x for x in range(idx)]\n",
    "plt.figure(figsize=(8,4))\n",
    "plt.plot(aa, Y_test[0][:idx], marker='.', label=\"actual\")\n",
    "plt.plot(aa, test_predict[:,0][:idx], 'r', label=\"prediction\")\n",
    "# plt.tick_params(left=False, labelleft=True) #remove ticks\n",
    "plt.tight_layout()\n",
    "sns.despine(top=True)\n",
    "plt.subplots_adjust(left=0.07)\n",
    "plt.ylabel('TOTAL Load', size=15)\n",
    "plt.xlabel('Time step', size=15)\n",
    "plt.legend(fontsize=15)\n",
    "plt.show();"
   ]
  },
  {
   "cell_type": "code",
   "execution_count": null,
   "metadata": {},
   "outputs": [],
   "source": []
  }
 ],
 "metadata": {
  "kernelspec": {
   "display_name": "Python 3",
   "language": "python",
   "name": "python3"
  },
  "language_info": {
   "codemirror_mode": {
    "name": "ipython",
    "version": 3
   },
   "file_extension": ".py",
   "mimetype": "text/x-python",
   "name": "python",
   "nbconvert_exporter": "python",
   "pygments_lexer": "ipython3",
   "version": "3.8.5"
  }
 },
 "nbformat": 4,
 "nbformat_minor": 4
}
