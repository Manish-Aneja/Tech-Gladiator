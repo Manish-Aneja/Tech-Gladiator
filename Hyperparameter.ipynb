{
 "cells": [
  {
   "cell_type": "code",
   "execution_count": 25,
   "metadata": {},
   "outputs": [],
   "source": [
    "import os\n",
    "import sys\n",
    "import requests\n",
    "\n",
    "import numpy as np\n",
    "import pandas as pd\n",
    "import matplotlib.pyplot as plt\n",
    "\n",
    "from sklearn.ensemble import RandomForestClassifier\n",
    "from sklearn.model_selection import train_test_split\n",
    "from sklearn.model_selection import RandomizedSearchCV\n",
    "from sklearn.metrics import plot_roc_curve\n",
    "from sklearn.metrics import accuracy_score, classification_report\n",
    "\n"
   ]
  },
  {
   "cell_type": "code",
   "execution_count": 37,
   "metadata": {},
   "outputs": [],
   "source": [
    "import pandas as pd\n",
    "AAPL = pd.read_csv(\"Stock.csv\", parse_dates=[\"Date\"], index_col=\"Date\")\n"
   ]
  },
  {
   "cell_type": "code",
   "execution_count": 38,
   "metadata": {},
   "outputs": [
    {
     "data": {
      "text/html": [
       "<div>\n",
       "<style scoped>\n",
       "    .dataframe tbody tr th:only-of-type {\n",
       "        vertical-align: middle;\n",
       "    }\n",
       "\n",
       "    .dataframe tbody tr th {\n",
       "        vertical-align: top;\n",
       "    }\n",
       "\n",
       "    .dataframe thead th {\n",
       "        text-align: right;\n",
       "    }\n",
       "</style>\n",
       "<table border=\"1\" class=\"dataframe\">\n",
       "  <thead>\n",
       "    <tr style=\"text-align: right;\">\n",
       "      <th></th>\n",
       "      <th>High</th>\n",
       "      <th>Low</th>\n",
       "      <th>Open</th>\n",
       "      <th>Close</th>\n",
       "      <th>Volume</th>\n",
       "      <th>Adj Close</th>\n",
       "    </tr>\n",
       "    <tr>\n",
       "      <th>Date</th>\n",
       "      <th></th>\n",
       "      <th></th>\n",
       "      <th></th>\n",
       "      <th></th>\n",
       "      <th></th>\n",
       "      <th></th>\n",
       "    </tr>\n",
       "  </thead>\n",
       "  <tbody>\n",
       "    <tr>\n",
       "      <th>2018-01-02</th>\n",
       "      <td>64.421997</td>\n",
       "      <td>62.200001</td>\n",
       "      <td>62.400002</td>\n",
       "      <td>64.106003</td>\n",
       "      <td>21761000.0</td>\n",
       "      <td>64.106003</td>\n",
       "    </tr>\n",
       "    <tr>\n",
       "      <th>2018-01-03</th>\n",
       "      <td>65.050003</td>\n",
       "      <td>63.110001</td>\n",
       "      <td>64.199997</td>\n",
       "      <td>63.450001</td>\n",
       "      <td>22607500.0</td>\n",
       "      <td>63.450001</td>\n",
       "    </tr>\n",
       "    <tr>\n",
       "      <th>2018-01-04</th>\n",
       "      <td>63.709999</td>\n",
       "      <td>61.136002</td>\n",
       "      <td>62.574001</td>\n",
       "      <td>62.924000</td>\n",
       "      <td>49731500.0</td>\n",
       "      <td>62.924000</td>\n",
       "    </tr>\n",
       "    <tr>\n",
       "      <th>2018-01-05</th>\n",
       "      <td>63.448002</td>\n",
       "      <td>62.400002</td>\n",
       "      <td>63.324001</td>\n",
       "      <td>63.316002</td>\n",
       "      <td>22956000.0</td>\n",
       "      <td>63.316002</td>\n",
       "    </tr>\n",
       "    <tr>\n",
       "      <th>2018-01-08</th>\n",
       "      <td>67.403999</td>\n",
       "      <td>63.099998</td>\n",
       "      <td>63.200001</td>\n",
       "      <td>67.281998</td>\n",
       "      <td>49297000.0</td>\n",
       "      <td>67.281998</td>\n",
       "    </tr>\n",
       "  </tbody>\n",
       "</table>\n",
       "</div>"
      ],
      "text/plain": [
       "                 High        Low       Open      Close      Volume  Adj Close\n",
       "Date                                                                         \n",
       "2018-01-02  64.421997  62.200001  62.400002  64.106003  21761000.0  64.106003\n",
       "2018-01-03  65.050003  63.110001  64.199997  63.450001  22607500.0  63.450001\n",
       "2018-01-04  63.709999  61.136002  62.574001  62.924000  49731500.0  62.924000\n",
       "2018-01-05  63.448002  62.400002  63.324001  63.316002  22956000.0  63.316002\n",
       "2018-01-08  67.403999  63.099998  63.200001  67.281998  49297000.0  67.281998"
      ]
     },
     "execution_count": 38,
     "metadata": {},
     "output_type": "execute_result"
    }
   ],
   "source": [
    "AAPL.head()"
   ]
  },
  {
   "cell_type": "code",
   "execution_count": 33,
   "metadata": {},
   "outputs": [],
   "source": []
  },
  {
   "cell_type": "code",
   "execution_count": 42,
   "metadata": {},
   "outputs": [
    {
     "data": {
      "text/plain": [
       "Date\n",
       "2018-01-07     63.449001\n",
       "2018-01-14     67.162799\n",
       "2018-01-21     69.090500\n",
       "2018-01-28     69.229199\n",
       "2018-02-04     69.706400\n",
       "                 ...    \n",
       "2021-02-21    790.762497\n",
       "2021-02-28    702.616003\n",
       "2021-03-07    655.492004\n",
       "2021-03-14    659.593994\n",
       "2021-03-21    678.931995\n",
       "Freq: W-SUN, Name: Close, Length: 168, dtype: float64"
      ]
     },
     "execution_count": 42,
     "metadata": {},
     "output_type": "execute_result"
    }
   ],
   "source": [
    "AAPL.Close.resample('W').mean()"
   ]
  },
  {
   "cell_type": "code",
   "execution_count": null,
   "metadata": {},
   "outputs": [],
   "source": []
  }
 ],
 "metadata": {
  "kernelspec": {
   "display_name": "Python 3",
   "language": "python",
   "name": "python3"
  },
  "language_info": {
   "codemirror_mode": {
    "name": "ipython",
    "version": 3
   },
   "file_extension": ".py",
   "mimetype": "text/x-python",
   "name": "python",
   "nbconvert_exporter": "python",
   "pygments_lexer": "ipython3",
   "version": "3.8.5"
  }
 },
 "nbformat": 4,
 "nbformat_minor": 4
}
