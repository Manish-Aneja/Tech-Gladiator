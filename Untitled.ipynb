{
 "cells": [
  {
   "cell_type": "code",
   "execution_count": 1,
   "metadata": {},
   "outputs": [],
   "source": [
    "def ConvToBin(Num):\n",
    "    binary=\"{0:b}\".format(Num)\n",
    "    return(binary)\n",
    "mans=ConvToBin(647)\n",
    "#print(mans)\n",
    "\n",
    "for element in range(0, len(mans)):\n",
    "    #print(mans[element])\n",
    "    if mans[element]=='1':\n",
    "        a=[]\n",
    "        a.insert(element,element)"
   ]
  },
  {
   "cell_type": "code",
   "execution_count": 54,
   "metadata": {},
   "outputs": [
    {
     "data": {
      "text/plain": [
       "[[9]]"
      ]
     },
     "execution_count": 54,
     "metadata": {},
     "output_type": "execute_result"
    }
   ],
   "source": [
    "[a]"
   ]
  },
  {
   "cell_type": "code",
   "execution_count": 104,
   "metadata": {},
   "outputs": [
    {
     "name": "stdout",
     "output_type": "stream",
     "text": [
      "10000010001\n",
      "5\n"
     ]
    }
   ],
   "source": [
    "def funct(N):\n",
    "    import re\n",
    "    binary = f'{N:b}'\n",
    "    pattern= r\"10+(?=1)\"\n",
    "    mtchs = re.findall(pattern, binary)\n",
    "    print(binary)\n",
    "    #print(mtchs)\n",
    "    if len(mtchs)==0:\n",
    "        return(0)\n",
    "    else:\n",
    "        mx = max(mtchs,key=len)\n",
    "        return mx.count('0')\n",
    "\n",
    "print(funct(1041))"
   ]
  },
  {
   "cell_type": "code",
   "execution_count": 2,
   "metadata": {},
   "outputs": [
    {
     "data": {
      "text/plain": [
       "4"
      ]
     },
     "execution_count": 2,
     "metadata": {},
     "output_type": "execute_result"
    }
   ],
   "source": [
    "def solution(A):\n",
    "    m = max(A)\n",
    "    if m < 1:\n",
    "       return 1\n",
    "    A = set(A)\n",
    "    B = set(range(1, m + 1))\n",
    "    D = B - A\n",
    "    if len(D) == 0:\n",
    "        return m + 1\n",
    "    else:\n",
    "        return min(D)\n",
    "    \n",
    "solution([1,2,3])    "
   ]
  },
  {
   "cell_type": "code",
   "execution_count": 4,
   "metadata": {},
   "outputs": [
    {
     "data": {
      "text/plain": [
       "2"
      ]
     },
     "execution_count": 4,
     "metadata": {},
     "output_type": "execute_result"
    }
   ],
   "source": [
    "def solution(A):\n",
    "    max_A=max(A)\n",
    "    B=set([a if a>=0 else 0 for a in A ])\n",
    "    b=1\n",
    "    if max_A<=0:\n",
    "        return(1)\n",
    "    else:\n",
    "        while b in B:\n",
    "            b+=1\n",
    "        return(b)\n",
    "A=[1,0,1,0,1,1]\n",
    "solution(A)"
   ]
  },
  {
   "cell_type": "code",
   "execution_count": 16,
   "metadata": {},
   "outputs": [
    {
     "data": {
      "text/html": [
       "<div>\n",
       "<style scoped>\n",
       "    .dataframe tbody tr th:only-of-type {\n",
       "        vertical-align: middle;\n",
       "    }\n",
       "\n",
       "    .dataframe tbody tr th {\n",
       "        vertical-align: top;\n",
       "    }\n",
       "\n",
       "    .dataframe thead th {\n",
       "        text-align: right;\n",
       "    }\n",
       "</style>\n",
       "<table border=\"1\" class=\"dataframe\">\n",
       "  <thead>\n",
       "    <tr style=\"text-align: right;\">\n",
       "      <th></th>\n",
       "      <th>id</th>\n",
       "      <th>name</th>\n",
       "      <th>age</th>\n",
       "      <th>score</th>\n",
       "    </tr>\n",
       "  </thead>\n",
       "  <tbody>\n",
       "    <tr>\n",
       "      <th>1</th>\n",
       "      <td>17</td>\n",
       "      <td>Betty</td>\n",
       "      <td>28.0</td>\n",
       "      <td>11</td>\n",
       "    </tr>\n",
       "  </tbody>\n",
       "</table>\n",
       "</div>"
      ],
      "text/plain": [
       "   id   name   age  score \n",
       "1  17  Betty  28.0      11"
      ]
     },
     "execution_count": 16,
     "metadata": {},
     "output_type": "execute_result"
    }
   ],
   "source": [
    "import pandas as pd  \n",
    "df = pd.read_csv('Daya.csv',encoding='unicode_escape')  \n",
    "df = df.dropna(how='any',axis=0) \n",
    "df\n",
    "\n",
    "                 \n"
   ]
  },
  {
   "cell_type": "code",
   "execution_count": 79,
   "metadata": {},
   "outputs": [
    {
     "name": "stdout",
     "output_type": "stream",
     "text": [
      "Dan 33\n",
      "Bob 19\n",
      "Sheri 42\n"
     ]
    }
   ],
   "source": [
    "import csv\n",
    "rawdata = 'name,age\\nDan,33\\nBob,19\\nSheri,42'\n",
    "myreader = csv.DictReader(rawdata.splitlines())\n",
    "\n",
    "for row in myreader:\n",
    "    print(row['name'], row['age'])"
   ]
  },
  {
   "cell_type": "code",
   "execution_count": 109,
   "metadata": {},
   "outputs": [],
   "source": [
    "import csv\n",
    "rawdata = 'id,name,age,score\\n1,Jack,NULL,12\\n17,Betty,28,11'\n",
    "myreader = csv.DictReader(rawdata.splitlines())\n"
   ]
  },
  {
   "cell_type": "code",
   "execution_count": 110,
   "metadata": {},
   "outputs": [
    {
     "name": "stdout",
     "output_type": "stream",
     "text": [
      "17 Betty 28 11\n"
     ]
    }
   ],
   "source": [
    "for row in myreader:\n",
    "    if row['age']!='NULL':\n",
    "        if row['name']!='NULL':\n",
    "            if row['age']!='NULL':\n",
    "                if row['score']!='NULL':\n",
    "                    print(row['id'],row['name'], row['age'],row['score'])\n"
   ]
  },
  {
   "cell_type": "code",
   "execution_count": 113,
   "metadata": {},
   "outputs": [],
   "source": [
    "import heapq\n",
    "def solve(A,B):\n",
    "    diff = sum(A) - sum(B)\n",
    "    if diff==0:\n",
    "        return 0\n",
    "    elif diff<0:\n",
    "        \n",
    "        min_heap, max_heap = A,B\n",
    "    else:\n",
    "        \n",
    "        min_heap, max_heap = B,A\n",
    "    \n",
    "    diff = abs(diff)\n",
    "    heapq.heapify(min_heap)\n",
    "    max_heap = [-i for i in max_heap]\n",
    "    heapq.heapify(max_heap)\n",
    "\n",
    "    count = 0\n",
    "    val = 0\n",
    "    while val<diff:\n",
    "        val_from_min_heap = min_heap[0]\n",
    "        val_from_max_heap = abs(max_heap[0])\n",
    "        if val_from_min_heap==6 and val_from_max_heap==1:\n",
    "            return -1\n",
    "        diff_if_min = 6-val_from_min_heap \n",
    "        diff_if_max = val_from_max_heap-1 \n",
    "        count+=1\n",
    "        val+= max(diff_if_min, diff_if_max)\n",
    "        if diff_if_min>diff_if_max:\n",
    "            heapq.heappop(min_heap)\n",
    "            heapq.heappush(min_heap,6)\n",
    "        else:\n",
    "            heapq.heappop(max_heap)\n",
    "            heapq.heappush(max_heap,-1)\n",
    "    \n",
    "    return count"
   ]
  },
  {
   "cell_type": "code",
   "execution_count": 114,
   "metadata": {},
   "outputs": [
    {
     "name": "stdout",
     "output_type": "stream",
     "text": [
      "1\n"
     ]
    }
   ],
   "source": [
    "print(solve([5],[1,1,6]))"
   ]
  },
  {
   "cell_type": "code",
   "execution_count": null,
   "metadata": {},
   "outputs": [],
   "source": []
  },
  {
   "cell_type": "code",
   "execution_count": 122,
   "metadata": {},
   "outputs": [
    {
     "data": {
      "text/plain": [
       "('17', 'Betty', '28', '11')"
      ]
     },
     "execution_count": 122,
     "metadata": {},
     "output_type": "execute_result"
    }
   ],
   "source": [
    "def solution(S):\n",
    "    # write your code in Python 3.6\n",
    "    import csv\n",
    "    rawdata = S\n",
    "    myreader = csv.DictReader(rawdata.splitlines())\n",
    "    for row in myreader:\n",
    "        if row['age']!='NULL':\n",
    "            if row['name']!='NULL':\n",
    "                if row['age']!='NULL':\n",
    "                    if row['score']!='NULL':\n",
    "                        return(row['id'],row['name'], row['age'],row['score'])\n",
    "\n",
    "solution('id,name,age,score\\n1,Jack,NULL,12\\n17,Betty,28,11')"
   ]
  },
  {
   "cell_type": "code",
   "execution_count": 143,
   "metadata": {},
   "outputs": [
    {
     "ename": "SyntaxError",
     "evalue": "'return' outside function (<ipython-input-143-3f943835ff15>, line 16)",
     "output_type": "error",
     "traceback": [
      "\u001b[1;36m  File \u001b[1;32m\"<ipython-input-143-3f943835ff15>\"\u001b[1;36m, line \u001b[1;32m16\u001b[0m\n\u001b[1;33m    return min(dp[0][0], dp[0][1])\u001b[0m\n\u001b[1;37m    ^\u001b[0m\n\u001b[1;31mSyntaxError\u001b[0m\u001b[1;31m:\u001b[0m 'return' outside function\n"
     ]
    }
   ],
   "source": [
    "n = len(A)\n",
    "dp = [[0 for x in range(2)] for y in range(n)]\n",
    "if A[n-1] == 0:\n",
    "    dp[n-1][0] = 0\n",
    "    dp[n-1][1] = 1\n",
    "else:\n",
    "    dp[n-1][0] = 1\n",
    "    dp[n-1][1] = 0\n",
    "for i in reversed(range(len(A)-1)):\n",
    "    if A[0] == 0:\n",
    "        dp[i][0] = dp[i+1][1]\n",
    "        dp[i][1] = dp[i+1][0] + 1\n",
    "    else:\n",
    "        dp[i][0] = dp[i+1][1] + 1\n",
    "        dp[i][1] = dp[i+1][0]\n",
    "return min(dp[0][0], dp[0][1])"
   ]
  },
  {
   "cell_type": "code",
   "execution_count": null,
   "metadata": {},
   "outputs": [],
   "source": []
  }
 ],
 "metadata": {
  "kernelspec": {
   "display_name": "Python 3",
   "language": "python",
   "name": "python3"
  },
  "language_info": {
   "codemirror_mode": {
    "name": "ipython",
    "version": 3
   },
   "file_extension": ".py",
   "mimetype": "text/x-python",
   "name": "python",
   "nbconvert_exporter": "python",
   "pygments_lexer": "ipython3",
   "version": "3.8.5"
  }
 },
 "nbformat": 4,
 "nbformat_minor": 4
}
