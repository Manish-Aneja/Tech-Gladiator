{
 "cells": [
  {
   "cell_type": "code",
   "execution_count": 1,
   "metadata": {},
   "outputs": [
    {
     "data": {
      "text/html": [
       "<div>\n",
       "<style scoped>\n",
       "    .dataframe tbody tr th:only-of-type {\n",
       "        vertical-align: middle;\n",
       "    }\n",
       "\n",
       "    .dataframe tbody tr th {\n",
       "        vertical-align: top;\n",
       "    }\n",
       "\n",
       "    .dataframe thead th {\n",
       "        text-align: right;\n",
       "    }\n",
       "</style>\n",
       "<table border=\"1\" class=\"dataframe\">\n",
       "  <thead>\n",
       "    <tr style=\"text-align: right;\">\n",
       "      <th></th>\n",
       "      <th>High</th>\n",
       "      <th>Low</th>\n",
       "      <th>Open</th>\n",
       "      <th>Close</th>\n",
       "      <th>Volume</th>\n",
       "      <th>Adj Close</th>\n",
       "    </tr>\n",
       "    <tr>\n",
       "      <th>Date</th>\n",
       "      <th></th>\n",
       "      <th></th>\n",
       "      <th></th>\n",
       "      <th></th>\n",
       "      <th></th>\n",
       "      <th></th>\n",
       "    </tr>\n",
       "  </thead>\n",
       "  <tbody>\n",
       "    <tr>\n",
       "      <th>2021-04-06</th>\n",
       "      <td>127.129997</td>\n",
       "      <td>125.650002</td>\n",
       "      <td>126.500000</td>\n",
       "      <td>126.209999</td>\n",
       "      <td>80171300.0</td>\n",
       "      <td>126.209999</td>\n",
       "    </tr>\n",
       "    <tr>\n",
       "      <th>2021-04-07</th>\n",
       "      <td>127.919998</td>\n",
       "      <td>125.139999</td>\n",
       "      <td>125.830002</td>\n",
       "      <td>127.900002</td>\n",
       "      <td>83466700.0</td>\n",
       "      <td>127.900002</td>\n",
       "    </tr>\n",
       "    <tr>\n",
       "      <th>2021-04-08</th>\n",
       "      <td>130.389999</td>\n",
       "      <td>128.520004</td>\n",
       "      <td>128.949997</td>\n",
       "      <td>130.360001</td>\n",
       "      <td>88844600.0</td>\n",
       "      <td>130.360001</td>\n",
       "    </tr>\n",
       "    <tr>\n",
       "      <th>2021-04-09</th>\n",
       "      <td>133.039993</td>\n",
       "      <td>129.470001</td>\n",
       "      <td>129.800003</td>\n",
       "      <td>133.000000</td>\n",
       "      <td>106513800.0</td>\n",
       "      <td>133.000000</td>\n",
       "    </tr>\n",
       "    <tr>\n",
       "      <th>2021-04-12</th>\n",
       "      <td>132.850006</td>\n",
       "      <td>130.630005</td>\n",
       "      <td>132.520004</td>\n",
       "      <td>131.246704</td>\n",
       "      <td>62190382.0</td>\n",
       "      <td>131.246704</td>\n",
       "    </tr>\n",
       "  </tbody>\n",
       "</table>\n",
       "</div>"
      ],
      "text/plain": [
       "                  High         Low        Open       Close       Volume  \\\n",
       "Date                                                                      \n",
       "2021-04-06  127.129997  125.650002  126.500000  126.209999   80171300.0   \n",
       "2021-04-07  127.919998  125.139999  125.830002  127.900002   83466700.0   \n",
       "2021-04-08  130.389999  128.520004  128.949997  130.360001   88844600.0   \n",
       "2021-04-09  133.039993  129.470001  129.800003  133.000000  106513800.0   \n",
       "2021-04-12  132.850006  130.630005  132.520004  131.246704   62190382.0   \n",
       "\n",
       "             Adj Close  \n",
       "Date                    \n",
       "2021-04-06  126.209999  \n",
       "2021-04-07  127.900002  \n",
       "2021-04-08  130.360001  \n",
       "2021-04-09  133.000000  \n",
       "2021-04-12  131.246704  "
      ]
     },
     "execution_count": 1,
     "metadata": {},
     "output_type": "execute_result"
    }
   ],
   "source": [
    "import numpy as np\n",
    "import pandas as pd\n",
    "import matplotlib.pyplot as plt\n",
    "from sklearn.preprocessing import MinMaxScaler\n",
    "from keras.models import Sequential, load_model\n",
    "from keras.layers import LSTM, Dense, Dropout\n",
    "import os\n",
    "from datetime import datetime\n",
    "from pandas_datareader.data import DataReader\n",
    "\n",
    "symbol='AAPL'    \n",
    "start='2016-01-01'\n",
    "end=datetime.now()\n",
    "df = DataReader(symbol, 'yahoo', start, end)\n",
    "df.tail()"
   ]
  },
  {
   "cell_type": "code",
   "execution_count": 2,
   "metadata": {},
   "outputs": [
    {
     "name": "stdout",
     "output_type": "stream",
     "text": [
      "(1327, 1)\n"
     ]
    },
    {
     "data": {
      "text/plain": [
       "array([[25.65250015],\n",
       "       [26.4375    ],\n",
       "       [25.13999939],\n",
       "       [24.67000008],\n",
       "       [24.63750076]])"
      ]
     },
     "execution_count": 2,
     "metadata": {},
     "output_type": "execute_result"
    }
   ],
   "source": [
    "df = df['Open'].values\n",
    "df = df.reshape(-1, 1)\n",
    "print(df.shape)\n",
    "df[:5]"
   ]
  },
  {
   "cell_type": "code",
   "execution_count": 3,
   "metadata": {},
   "outputs": [
    {
     "name": "stdout",
     "output_type": "stream",
     "text": [
      "(1061, 1)\n",
      "(316, 1)\n"
     ]
    }
   ],
   "source": [
    "dataset_train = np.array(df[:int(df.shape[0]*0.8)])\n",
    "dataset_test = np.array(df[int(df.shape[0]*0.8)-50:])\n",
    "print(dataset_train.shape)\n",
    "print(dataset_test.shape)"
   ]
  },
  {
   "cell_type": "code",
   "execution_count": 4,
   "metadata": {},
   "outputs": [
    {
     "data": {
      "text/plain": [
       "array([[0.05371901],\n",
       "       [0.06709551],\n",
       "       [0.04498593],\n",
       "       [0.03697708],\n",
       "       [0.03642329]])"
      ]
     },
     "execution_count": 4,
     "metadata": {},
     "output_type": "execute_result"
    }
   ],
   "source": [
    "scaler = MinMaxScaler(feature_range=(0,1))\n",
    "dataset_train = scaler.fit_transform(dataset_train)\n",
    "dataset_train[:5]"
   ]
  },
  {
   "cell_type": "code",
   "execution_count": 5,
   "metadata": {},
   "outputs": [
    {
     "data": {
      "text/plain": [
       "array([[0.92544943],\n",
       "       [0.93976321],\n",
       "       [0.94419368],\n",
       "       [0.96574943],\n",
       "       [0.94508825]])"
      ]
     },
     "execution_count": 5,
     "metadata": {},
     "output_type": "execute_result"
    }
   ],
   "source": [
    "dataset_test = scaler.transform(dataset_test)\n",
    "dataset_test[:5]"
   ]
  },
  {
   "cell_type": "code",
   "execution_count": 6,
   "metadata": {},
   "outputs": [],
   "source": [
    "def create_dataset(df):\n",
    "    x = []\n",
    "    y = []\n",
    "    for i in range(50, df.shape[0]):\n",
    "        x.append(df[i-50:i, 0])\n",
    "        y.append(df[i, 0])\n",
    "    x = np.array(x)\n",
    "    y = np.array(y)\n",
    "    return x,y"
   ]
  },
  {
   "cell_type": "code",
   "execution_count": 7,
   "metadata": {},
   "outputs": [
    {
     "data": {
      "text/plain": [
       "array([[0.05371901, 0.06709551, 0.04498593, 0.03697708, 0.03642329,\n",
       "        0.0382125 , 0.04494336, 0.04396353, 0.03390986, 0.02641219,\n",
       "        0.03582689, 0.02172616, 0.03007582, 0.03676407, 0.04907556,\n",
       "        0.04230212, 0.0257306 , 0.01614553, 0.02040556, 0.02756242,\n",
       "        0.02308937, 0.02130016, 0.02496379, 0.0277754 , 0.01333389,\n",
       "        0.01827554, 0.02521938, 0.01614553, 0.01784955, 0.02138535,\n",
       "        0.02841441, 0.03765867, 0.0255602 , 0.0268808 , 0.02726421,\n",
       "        0.01695494, 0.02577321, 0.03067222, 0.02922383, 0.03258926,\n",
       "        0.04477295, 0.04507115, 0.05269661, 0.0527818 , 0.04592315,\n",
       "        0.04818096, 0.04860699, 0.05214279, 0.050737  , 0.05947005]])"
      ]
     },
     "execution_count": 7,
     "metadata": {},
     "output_type": "execute_result"
    }
   ],
   "source": [
    "x_train, y_train = create_dataset(dataset_train)\n",
    "x_train[:1]"
   ]
  },
  {
   "cell_type": "code",
   "execution_count": 8,
   "metadata": {},
   "outputs": [
    {
     "data": {
      "text/plain": [
       "array([[0.92544943, 0.93976321, 0.94419368, 0.96574943, 0.94508825,\n",
       "        0.95250066, 0.96391752, 0.96783681, 0.97375818, 0.97094668,\n",
       "        0.9808725 , 0.93746275, 0.94828327, 0.99876468, 0.98210794,\n",
       "        0.98376929, 0.91292492, 0.95982792, 0.99480276, 0.9907558 ,\n",
       "        0.98990374, 0.95501407, 0.99514363, 0.98606974, 0.99765703,\n",
       "        1.        , 0.96004087, 0.97980749, 0.99101139, 0.97392862,\n",
       "        0.88293439, 0.89865392, 0.83722419, 0.81409225, 0.71253309,\n",
       "        0.81911905, 0.91024121, 0.87944113, 0.87552184, 0.81792625,\n",
       "        0.74018066, 0.79722255, 0.79828756, 0.70690981, 0.74503716,\n",
       "        0.64731193, 0.6709977 , 0.63802509, 0.67048652, 0.66959189]])"
      ]
     },
     "execution_count": 8,
     "metadata": {},
     "output_type": "execute_result"
    }
   ],
   "source": [
    "x_test, y_test = create_dataset(dataset_test)\n",
    "x_test[:1]"
   ]
  },
  {
   "cell_type": "code",
   "execution_count": 9,
   "metadata": {},
   "outputs": [],
   "source": [
    "# Reshape features for LSTM Layer\n",
    "x_train = np.reshape(x_train, (x_train.shape[0], x_train.shape[1], 1))\n",
    "x_test = np.reshape(x_test, (x_test.shape[0], x_test.shape[1], 1))"
   ]
  },
  {
   "cell_type": "code",
   "execution_count": 10,
   "metadata": {},
   "outputs": [],
   "source": [
    "model = Sequential()\n",
    "model.add(LSTM(units=96, return_sequences=True, input_shape=(x_train.shape[1], 1)))\n",
    "model.add(Dropout(0.2))\n",
    "model.add(LSTM(units=96, return_sequences=True))\n",
    "model.add(Dropout(0.2))\n",
    "model.add(LSTM(units=96, return_sequences=True))\n",
    "model.add(Dropout(0.2))\n",
    "model.add(LSTM(units=96))\n",
    "model.add(Dropout(0.2))\n",
    "model.add(Dense(units=1))"
   ]
  },
  {
   "cell_type": "code",
   "execution_count": 11,
   "metadata": {},
   "outputs": [],
   "source": [
    "model.compile(loss='mean_squared_error', optimizer='adam')"
   ]
  },
  {
   "cell_type": "code",
   "execution_count": 12,
   "metadata": {},
   "outputs": [],
   "source": [
    "if(not os.path.exists('stock_prediction.h5')):\n",
    "    model.fit(x_train, y_train, epochs=9, batch_size=32)\n",
    "    model.save('stock_prediction.h5')"
   ]
  },
  {
   "cell_type": "code",
   "execution_count": 13,
   "metadata": {},
   "outputs": [],
   "source": [
    "model = load_model('stock_prediction.h5')"
   ]
  },
  {
   "cell_type": "code",
   "execution_count": 14,
   "metadata": {},
   "outputs": [
    {
     "data": {
      "text/plain": [
       "<matplotlib.legend.Legend at 0x1d9d9acfd90>"
      ]
     },
     "execution_count": 14,
     "metadata": {},
     "output_type": "execute_result"
    },
    {
     "data": {
      "image/png": "[encoded data removed]",
      "text/plain": [
       "<Figure size 576x288 with 1 Axes>"
      ]
     },
     "metadata": {
      "needs_background": "light"
     },
     "output_type": "display_data"
    }
   ],
   "source": [
    "predictions = model.predict(x_test)\n",
    "predictions = scaler.inverse_transform(predictions)\n",
    "\n",
    "fig, ax = plt.subplots(figsize=(8,4))\n",
    "plt.plot(df, color='red',  label=\"True Price\")\n",
    "ax.plot(range(len(y_train)+50,len(y_train)+50+len(predictions)),predictions,color='blue', label='Predicted Testing Price')\n",
    "plt.legend()"
   ]
  },
  {
   "cell_type": "code",
   "execution_count": 15,
   "metadata": {},
   "outputs": [
    {
     "data": {
      "text/plain": [
       "<matplotlib.legend.Legend at 0x1d9daeaa0a0>"
      ]
     },
     "execution_count": 15,
     "metadata": {},
     "output_type": "execute_result"
    },
    {
     "data": {
      "image/png": "[encoded data removed]",
      "text/plain": [
       "<Figure size 576x288 with 1 Axes>"
      ]
     },
     "metadata": {
      "needs_background": "light"
     },
     "output_type": "display_data"
    }
   ],
   "source": [
    "\n",
    "y_test_scaled = scaler.inverse_transform(y_test.reshape(-1, 1))\n",
    "\n",
    "fig, ax = plt.subplots(figsize=(8,4))\n",
    "ax.plot(y_test_scaled,'.-', color='red', label='True Testing Price')\n",
    "plt.plot(predictions, color='blue', label='Predicted Testing Price')\n",
    "plt.legend()"
   ]
  },
  {
   "cell_type": "code",
   "execution_count": 22,
   "metadata": {},
   "outputs": [
    {
     "name": "stdout",
     "output_type": "stream",
     "text": [
      "R-Square Error: 0.5425767762029015\n",
      "Mean Absolute Error: 12.4497195222324\n",
      "Root Mean Squared Error: 15.045539605010664\n",
      "Mean Squared Error: 226.36826200594444\n",
      "15.045539605010664\n"
     ]
    }
   ],
   "source": [
    "from sklearn import metrics\n",
    "r_square = metrics.r2_score(y_test_scaled, predictions)\n",
    "print('R-Square Error:', r_square)\n",
    "print('Mean Absolute Error:', metrics.mean_absolute_error(y_test_scaled, predictions))\n",
    "print('Root Mean Squared Error:', np.sqrt(metrics.mean_squared_error(y_test_scaled, predictions)))\n",
    "print('Mean Squared Error:', metrics.mean_squared_error(y_test_scaled, predictions))\n",
    "rmse = np.sqrt(np.mean(((y_test_scaled-predictions) ** 2)))\n",
    "print(rmse)"
   ]
  },
  {
   "cell_type": "code",
   "execution_count": 17,
   "metadata": {},
   "outputs": [
    {
     "name": "stdout",
     "output_type": "stream",
     "text": [
      "[107.20807, 136.98735, 155.17299, 163.78827, 168.26518, 170.63243, 171.94858, 172.69666, 173.13301, 173.3921, 173.54883, 173.64531, 173.70566, 173.74393, 173.76881, 173.78516, 173.79597, 173.80334, 173.8085, 173.8123, 173.81519, 173.81757, 173.81973, 173.82211, 173.8246, 173.8275, 173.83104, 173.83545, 173.84102, 173.84859, 173.85846, 173.87115, 173.8884, 173.91298, 173.946, 173.99135, 174.05286, 174.14084, 174.26619, 174.41908, 174.56941, 174.6963, 174.78647, 174.842, 174.87515, 174.89275, 174.89949, 174.89847, 174.8914, 174.87842, 174.85881, 174.84091, 174.83223, 174.82797, 174.82556, 174.82425, 174.82336, 174.82286, 174.82246, 174.82211, 174.82187, 174.82169, 174.8215, 174.82135, 174.82121, 174.82103, 174.82094, 174.82079, 174.82065, 174.82048, 174.82034, 174.8202, 174.8201, 174.81993, 174.8198, 174.81963, 174.81946, 174.81927, 174.81914, 174.81892, 174.81874, 174.81853, 174.81833, 174.81812, 174.81786, 174.81764, 174.81737, 174.81714, 174.81699, 174.8168, 174.8167, 174.81665, 174.81662, 174.8166, 174.81662, 174.81664, 174.81667, 174.81668, 174.81668, 174.81671]\n"
     ]
    }
   ],
   "source": [
    "x = x_test[-1]\n",
    "num_timesteps = 100\n",
    "preds = []\n",
    "for i in range(num_timesteps):\n",
    "    data = np.expand_dims(x, axis=0)\n",
    "    prediction = model.predict(data)\n",
    "    prediction = scaler.inverse_transform(prediction)\n",
    "    preds.append(prediction[0][0])\n",
    "    x = np.delete(x, 0, axis=0) # delete first row\n",
    "    x = np.vstack([x, prediction]) # add prediction\n",
    "\n",
    "print(preds)"
   ]
  },
  {
   "cell_type": "code",
   "execution_count": 18,
   "metadata": {},
   "outputs": [],
   "source": [
    "# x1 = np.linspace(0.0, 5.0)\n",
    "# x2 = np.linspace(0.0, 2.0)\n",
    "\n",
    "# y1 = np.cos(2 * np.pi * x1) * np.exp(-x1)\n",
    "# y2 = np.cos(2 * np.pi * x2)\n",
    "\n",
    "# plt.subplot(2, 1, 1)\n",
    "# plt.plot(x1, y1, 'o-')\n",
    "# plt.title('A tale of 2 subplots')\n",
    "# plt.ylabel('Damped oscillation')\n",
    "\n",
    "# plt.subplot(2, 1, 2)\n",
    "# plt.plot(x2, y2, '.-')\n",
    "# plt.xlabel('time (s)')\n",
    "# plt.ylabel('Undamped')\n",
    "\n",
    "# plt.show()"
   ]
  },
  {
   "cell_type": "code",
   "execution_count": null,
   "metadata": {},
   "outputs": [],
   "source": []
  },
  {
   "cell_type": "code",
   "execution_count": null,
   "metadata": {},
   "outputs": [],
   "source": []
  },
  {
   "cell_type": "code",
   "execution_count": null,
   "metadata": {},
   "outputs": [],
   "source": []
  },
  {
   "cell_type": "code",
   "execution_count": null,
   "metadata": {},
   "outputs": [],
   "source": []
  },
  {
   "cell_type": "code",
   "execution_count": 19,
   "metadata": {},
   "outputs": [],
   "source": []
  },
  {
   "cell_type": "code",
   "execution_count": 20,
   "metadata": {},
   "outputs": [
    {
     "data": {
      "text/plain": [
       "95.45898608130965"
      ]
     },
     "execution_count": 20,
     "metadata": {},
     "output_type": "execute_result"
    }
   ],
   "source": []
  },
  {
   "cell_type": "code",
   "execution_count": null,
   "metadata": {},
   "outputs": [],
   "source": []
  }
 ],
 "metadata": {
  "kernelspec": {
   "display_name": "Python 3",
   "language": "python",
   "name": "python3"
  },
  "language_info": {
   "codemirror_mode": {
    "name": "ipython",
    "version": 3
   },
   "file_extension": ".py",
   "mimetype": "text/x-python",
   "name": "python",
   "nbconvert_exporter": "python",
   "pygments_lexer": "ipython3",
   "version": "3.8.5"
  }
 },
 "nbformat": 4,
 "nbformat_minor": 4
}
